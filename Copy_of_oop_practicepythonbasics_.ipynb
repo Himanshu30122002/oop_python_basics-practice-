{
  "nbformat": 4,
  "nbformat_minor": 0,
  "metadata": {
    "colab": {
      "name": "Copy of oop_practicepythonbasics .ipynb",
      "provenance": [],
      "collapsed_sections": [],
      "authorship_tag": "ABX9TyPYEqlbk3MtqQMGSFB7bfyC",
      "include_colab_link": true
    },
    "kernelspec": {
      "name": "python3",
      "display_name": "Python 3"
    },
    "language_info": {
      "name": "python"
    }
  },
  "cells": [
    {
      "cell_type": "markdown",
      "metadata": {
        "id": "view-in-github",
        "colab_type": "text"
      },
      "source": [
        "<a href=\"https://colab.research.google.com/github/Himanshu30122002/oop_python_basics-practice-/blob/main/Copy_of_oop_practicepythonbasics_.ipynb\" target=\"_parent\"><img src=\"https://colab.research.google.com/assets/colab-badge.svg\" alt=\"Open In Colab\"/></a>"
      ]
    },
    {
      "cell_type": "code",
      "metadata": {
        "colab": {
          "base_uri": "https://localhost:8080/"
        },
        "id": "zA62gHSbKmUM",
        "outputId": "dbfc4ae0-7219-4134-ec58-0d1432b1005a"
      },
      "source": [
        "# ques 1\n",
        "def max_num(n1,n2):\n",
        "  if n1>n2:\n",
        "    print(\"n1 is greater\")\n",
        "  else:\n",
        "    print(\"n2 is greater\")\n",
        "    return max_num\n",
        "\n",
        "a = max_num(56,23)\n",
        "  \n",
        "\n",
        "\n"
      ],
      "execution_count": null,
      "outputs": [
        {
          "output_type": "stream",
          "name": "stdout",
          "text": [
            "n1 is greater\n"
          ]
        }
      ]
    },
    {
      "cell_type": "code",
      "metadata": {
        "colab": {
          "base_uri": "https://localhost:8080/"
        },
        "id": "-N5VCSZBNO_-",
        "outputId": "fa84978c-f0cc-4225-8673-5b6265d342f8"
      },
      "source": [
        "# ques 2\n",
        "def num_game(n):\n",
        "  num = n\n",
        "  print(\"you have choosen \",n)\n",
        "  return num_game\n",
        "\n",
        "\n",
        "print(\"enter the number:\")\n",
        "a = int(input())\n",
        "b = num_game(a)\n",
        "\n"
      ],
      "execution_count": null,
      "outputs": [
        {
          "output_type": "stream",
          "name": "stdout",
          "text": [
            "enter the number:\n",
            "3\n",
            "you have choosen  3\n"
          ]
        }
      ]
    },
    {
      "cell_type": "code",
      "metadata": {
        "colab": {
          "base_uri": "https://localhost:8080/"
        },
        "id": "nJjVsPtfN_0d",
        "outputId": "f2ae4d0e-1d9d-4b9d-c8a5-bf1392e860f5"
      },
      "source": [
        "# ques 3\n",
        "print(\"enter a number:\")\n",
        "n = int(input())\n",
        "if n%3 ==0:\n",
        "  print(\"number\")\n",
        "else:\n",
        "  print(\"not divisble by 3\")  \n",
        "\n",
        "\n"
      ],
      "execution_count": null,
      "outputs": [
        {
          "output_type": "stream",
          "name": "stdout",
          "text": [
            "enter a number:\n",
            "8\n",
            "not divisble by 3\n"
          ]
        }
      ]
    },
    {
      "cell_type": "code",
      "metadata": {
        "colab": {
          "base_uri": "https://localhost:8080/"
        },
        "id": "twjKv3aMOrIY",
        "outputId": "ee4ab717-3fbe-4ef8-a63b-3d0977186fc6"
      },
      "source": [
        "# ques 4\n",
        "print(\"enter a number:\")\n",
        "n = int(input())\n",
        "if n%5 ==0:\n",
        "  print(\"Game\")\n",
        "else:\n",
        "  print(\"not divisble by 5\")  \n"
      ],
      "execution_count": null,
      "outputs": [
        {
          "output_type": "stream",
          "name": "stdout",
          "text": [
            "enter a number:\n",
            "10\n",
            "Game\n"
          ]
        }
      ]
    },
    {
      "cell_type": "code",
      "metadata": {
        "colab": {
          "base_uri": "https://localhost:8080/"
        },
        "id": "Dw0aCk9fO2_R",
        "outputId": "b7a9e3ab-a1ba-4063-aa06-9d3c7d0a3bc2"
      },
      "source": [
        "# ques 5-6\n",
        "print(\"enter a number:\")\n",
        "n = int(input())\n",
        "if (n%3 and n%5) ==0:\n",
        "  print(\"numbergame\")\n",
        "else:\n",
        "  print(n)"
      ],
      "execution_count": null,
      "outputs": [
        {
          "output_type": "stream",
          "name": "stdout",
          "text": [
            "enter a number:\n",
            "7\n",
            "7\n"
          ]
        }
      ]
    },
    {
      "cell_type": "code",
      "metadata": {
        "colab": {
          "base_uri": "https://localhost:8080/"
        },
        "id": "AYXEBaXAn2JO",
        "outputId": "79f8793a-4660-42e4-8d63-ebcff5a06b46"
      },
      "source": [
        "# ques 7-10\n",
        "def speed_lim(n):\n",
        "  if n <= 70 :\n",
        "    print(\"ok\")\n",
        "  if n>70 and n<130:\n",
        "    i = (n -70)/5\n",
        "    print(\"you are given 1 demerit points for every 5km\\hr \")\n",
        "    print(\"your demerit points are \",i)\n",
        "      \n",
        "  if n>=130:\n",
        "    print(\"your license is suspended\")\n",
        "\n",
        "print(\"speed of the vehicle is: \")\n",
        "speed = int(input())\n",
        "print(speed)\n",
        "speed_lim(speed)\n"
      ],
      "execution_count": null,
      "outputs": [
        {
          "output_type": "stream",
          "name": "stdout",
          "text": [
            "speed of the vehicle is: \n",
            "130\n",
            "130\n",
            "your license is suspended\n"
          ]
        }
      ]
    },
    {
      "cell_type": "code",
      "metadata": {
        "colab": {
          "base_uri": "https://localhost:8080/"
        },
        "id": "tVScGAQfwenK",
        "outputId": "d3534520-dfa3-47bb-835c-66d28cd1bdf4"
      },
      "source": [
        "# ques 11\n",
        "def shownumbers(limit):\n",
        "  i =0\n",
        "  for i in range(0,limit+1):\n",
        "    if i%2==0:\n",
        "      print(i,\"EVEN\")\n",
        "    else:\n",
        "       print(i,\"ODD\") \n",
        "\n",
        "print(\"enter any positive integer\")\n",
        "n =int(input())\n",
        "shownumbers(n)      "
      ],
      "execution_count": null,
      "outputs": [
        {
          "output_type": "stream",
          "name": "stdout",
          "text": [
            "enter any positive integer\n",
            "16\n",
            "0 EVEN\n",
            "1 ODD\n",
            "2 EVEN\n",
            "3 ODD\n",
            "4 EVEN\n",
            "5 ODD\n",
            "6 EVEN\n",
            "7 ODD\n",
            "8 EVEN\n",
            "9 ODD\n",
            "10 EVEN\n",
            "11 ODD\n",
            "12 EVEN\n",
            "13 ODD\n",
            "14 EVEN\n",
            "15 ODD\n",
            "16 EVEN\n"
          ]
        }
      ]
    },
    {
      "cell_type": "code",
      "metadata": {
        "colab": {
          "base_uri": "https://localhost:8080/"
        },
        "id": "mxDpmIdr0mhi",
        "outputId": "99b83842-99d9-4e51-c6ae-84b8f0a4ad24"
      },
      "source": [
        "# ques 12\n",
        "def showsigns(rows):\n",
        " if rows !=5:\n",
        "   print(\"invalid input\")\n",
        " else:\n",
        "    for i in range(0,rows):\n",
        "      for j in range(0,i+1):\n",
        "        print(\"& \",end=\"\")\n",
        "      print(\"\\r\")     \n",
        "\n",
        "print(\"Enter any number\")\n",
        "n = int(input())\n",
        "showsigns(n)\n"
      ],
      "execution_count": null,
      "outputs": [
        {
          "output_type": "stream",
          "name": "stdout",
          "text": [
            "Enter any number\n",
            "6\n",
            "invalid input\n"
          ]
        }
      ]
    },
    {
      "cell_type": "code",
      "metadata": {
        "colab": {
          "base_uri": "https://localhost:8080/"
        },
        "id": "Cx-FaorIBJzn",
        "outputId": "dd21aaa1-e51c-433e-d4b2-b955cd650d3c"
      },
      "source": [
        "# ques 13\n",
        "def print_prime(max):\n",
        "  for i in range(0,max+1):\n",
        "    if i>1:\n",
        "      for j in range(2,i):\n",
        "        if i%j == 0:\n",
        "          break\n",
        "      else:\n",
        "          print(i)\n",
        "\n",
        "print(\"Enter any positive integer to get prime numbers between them\")          \n",
        "n = int(input())\n",
        "print_prime(n)"
      ],
      "execution_count": null,
      "outputs": [
        {
          "output_type": "stream",
          "name": "stdout",
          "text": [
            "Enter any positive integer to get prime numbers between them\n",
            "8\n",
            "2\n",
            "3\n",
            "5\n",
            "7\n"
          ]
        }
      ]
    },
    {
      "cell_type": "code",
      "metadata": {
        "colab": {
          "base_uri": "https://localhost:8080/"
        },
        "id": "8WGm62vtLouA",
        "outputId": "b5784bfc-63d7-4fc6-98a8-536e72654ed8"
      },
      "source": [
        "for i in range(1,4):\n",
        "  print(i)\n",
        "  if i == 5:\n",
        "    break\n",
        "else:\n",
        "  print(\"true\")\n"
      ],
      "execution_count": null,
      "outputs": [
        {
          "output_type": "stream",
          "name": "stdout",
          "text": [
            "1\n",
            "2\n",
            "3\n",
            "true\n"
          ]
        }
      ]
    },
    {
      "cell_type": "code",
      "metadata": {
        "colab": {
          "base_uri": "https://localhost:8080/"
        },
        "id": "KHWU57ptQ6Rz",
        "outputId": "1489b158-9353-42c4-e47d-4911f9223d8c"
      },
      "source": [
        "def sum(a,b):\n",
        "  sum = a +b\n",
        "  return sum\n",
        "\n",
        "print(sum(6,7))\n",
        "\n",
        "print(sum.__doc__)  \n",
        "\n"
      ],
      "execution_count": null,
      "outputs": [
        {
          "output_type": "stream",
          "name": "stdout",
          "text": [
            "13\n",
            "None\n"
          ]
        }
      ]
    },
    {
      "cell_type": "code",
      "metadata": {
        "colab": {
          "base_uri": "https://localhost:8080/"
        },
        "id": "r0BYmRa_RtFK",
        "outputId": "c86e5d93-61c0-4b1b-b0aa-aaa5d9287bd6"
      },
      "source": [
        "a = 34\n",
        "s = \"my name is vikash  i am student of indian institute of techonology and it is situated in the city of dharwad i the state of karnataka \"\n",
        "print(s)\n",
        "print(type(s))\n",
        "print(a)\n",
        "print(type(a))"
      ],
      "execution_count": null,
      "outputs": [
        {
          "output_type": "stream",
          "name": "stdout",
          "text": [
            "my name is vikash  i am student of indian institute of techonology and it is situated in the city of dharwad i the state of karnataka \n",
            "<class 'str'>\n",
            "34\n",
            "<class 'int'>\n"
          ]
        }
      ]
    },
    {
      "cell_type": "code",
      "metadata": {
        "colab": {
          "base_uri": "https://localhost:8080/"
        },
        "id": "7kHl2f7VTHKd",
        "outputId": "0c5964f8-f5fb-438a-9a73-4e466bc77b5a"
      },
      "source": [
        "list1 = [4,\"mango\",\"apple\"]\n",
        "print(type(list1))\n",
        "for item in list1:\n",
        "  print(item)\n",
        "list1.append(\"banana\")\n",
        "print(list1)\n",
        "print(list1[1:3])\n"
      ],
      "execution_count": null,
      "outputs": [
        {
          "output_type": "stream",
          "name": "stdout",
          "text": [
            "<class 'list'>\n",
            "4\n",
            "mango\n",
            "apple\n",
            "[4, 'mango', 'apple', 'banana']\n",
            "['mango', 'apple']\n"
          ]
        }
      ]
    },
    {
      "cell_type": "code",
      "metadata": {
        "colab": {
          "base_uri": "https://localhost:8080/"
        },
        "id": "BtyQoRKxTqoN",
        "outputId": "1636a4c7-1e19-4a17-8afe-9a1ae5f3476f"
      },
      "source": [
        "dict1 = {\"mango:fruit\", \"iiit:technical institutions\", \" monkey :animal\", \"vishnu : the creator\"}\n",
        "print(type(dict1))\n",
        "print(dict1)\n",
        "for item in dict1:\n",
        "  print(item)\n",
        "\n",
        "dict1.update({'india : new delhi'})\n",
        "print(dict1)"
      ],
      "execution_count": null,
      "outputs": [
        {
          "output_type": "stream",
          "name": "stdout",
          "text": [
            "<class 'set'>\n",
            "{'mango:fruit', 'iiit:technical institutions', 'vishnu : the creator', ' monkey :animal'}\n",
            "mango:fruit\n",
            "iiit:technical institutions\n",
            "vishnu : the creator\n",
            " monkey :animal\n",
            "{'mango:fruit', 'india : new delhi', 'vishnu : the creator', 'iiit:technical institutions', ' monkey :animal'}\n"
          ]
        }
      ]
    },
    {
      "cell_type": "code",
      "metadata": {
        "colab": {
          "base_uri": "https://localhost:8080/"
        },
        "id": "efP4MNtCWs6J",
        "outputId": "1a3b884d-d320-4464-d858-ad22db6e57e8"
      },
      "source": [
        "print(\"enter a number \")\n",
        "n = int(input())\n",
        "if n == 5:\n",
        "   print(True)\n",
        "else:\n",
        "    print(False)\n",
        "\n",
        "print(type(True))\n",
        "print(type(False))  \n",
        "\n"
      ],
      "execution_count": null,
      "outputs": [
        {
          "output_type": "stream",
          "name": "stdout",
          "text": [
            "enter a number \n",
            "6\n",
            "False\n",
            "<class 'bool'>\n",
            "<class 'bool'>\n"
          ]
        }
      ]
    },
    {
      "cell_type": "code",
      "metadata": {
        "colab": {
          "base_uri": "https://localhost:8080/"
        },
        "id": "DGxk9u0jXpl6",
        "outputId": "e7901915-7fe0-40fc-c209-8180beff4b55"
      },
      "source": [
        "set1 = {55,'australia','france',56,78}\n",
        "print(set1)\n",
        "\n",
        "set1.add(4)\n",
        "print(set1)\n",
        "set1.remove('australia')\n",
        "print(set1)"
      ],
      "execution_count": null,
      "outputs": [
        {
          "output_type": "stream",
          "name": "stdout",
          "text": [
            "{78, 55, 'australia', 'france', 56}\n",
            "{4, 78, 55, 'australia', 'france', 56}\n",
            "{4, 78, 55, 'france', 56}\n"
          ]
        }
      ]
    },
    {
      "cell_type": "code",
      "metadata": {
        "colab": {
          "base_uri": "https://localhost:8080/"
        },
        "id": "9tovqubEZWKq",
        "outputId": "78fa67ba-d00a-494c-f8d7-ff2eec9bc715"
      },
      "source": [
        "a = 40\n",
        "b =6\n",
        "print(\"a+b is\", a+b)\n",
        "print(\"a-b is\", a-b)\n",
        "print(\"a*b is\",a*b)\n",
        "print(\"a/b is\",a/b)\n",
        "print(\"a//b is\",a//b)"
      ],
      "execution_count": null,
      "outputs": [
        {
          "output_type": "stream",
          "name": "stdout",
          "text": [
            "a+b is 46\n",
            "a-b is 34\n",
            "a*b is 240\n",
            "a/b is 6.666666666666667\n",
            "a//b is 6\n"
          ]
        }
      ]
    },
    {
      "cell_type": "code",
      "metadata": {
        "colab": {
          "base_uri": "https://localhost:8080/"
        },
        "id": "YkcAt34cZ69v",
        "outputId": "3b2bc3c5-f861-4446-af56-f977a7ad88e7"
      },
      "source": [
        "a = True\n",
        "b = False\n",
        "print(\"a and b is\",a and b)\n",
        "print(\"a or b is\",a or b)\n",
        "print(\"not a \",not a)\n",
        "\n"
      ],
      "execution_count": null,
      "outputs": [
        {
          "output_type": "stream",
          "name": "stdout",
          "text": [
            "a and b is False\n",
            "a or b is True\n",
            "not a  False\n"
          ]
        }
      ]
    },
    {
      "cell_type": "code",
      "metadata": {
        "colab": {
          "base_uri": "https://localhost:8080/"
        },
        "id": "7Ol7fzedbgQN",
        "outputId": "260ea8d8-f6cf-4940-c716-fa7be4246213"
      },
      "source": [
        "a = 78\n",
        "a += 5\n",
        "print(a)\n",
        "a -= 8\n",
        "print(a)\n",
        "a /= 26\n",
        "print(a)\n",
        "a%=26\n",
        "print(a)\n"
      ],
      "execution_count": null,
      "outputs": [
        {
          "output_type": "stream",
          "name": "stdout",
          "text": [
            "83\n",
            "75\n",
            "2.8846153846153846\n",
            "2.8846153846153846\n"
          ]
        }
      ]
    }
  ]
}